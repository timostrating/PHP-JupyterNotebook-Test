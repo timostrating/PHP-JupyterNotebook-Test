{
 "cells": [
  {
   "cell_type": "code",
   "execution_count": 21,
   "metadata": {},
   "outputs": [
    {
     "data": {
      "text/plain": [
       "\u001b[34;4mComposer\\Autoload\\ClassLoader\u001b[39;24m {#500}"
      ]
     },
     "execution_count": 21,
     "metadata": {},
     "output_type": "execute_result"
    }
   ],
   "source": [
    "require 'vendor/autoload.php';"
   ]
  },
  {
   "cell_type": "code",
   "execution_count": 22,
   "metadata": {},
   "outputs": [],
   "source": [
    "use CpChart\\Data;\n",
    "use CpChart\\Image;"
   ]
  },
  {
   "cell_type": "code",
   "execution_count": 23,
   "metadata": {},
   "outputs": [
    {
     "data": {
      "text/plain": [
       "\u001b[36mnull\u001b[39m"
      ]
     },
     "execution_count": 23,
     "metadata": {},
     "output_type": "execute_result"
    }
   ],
   "source": [
    "$data = new Data();\n",
    "for ($i = 0; $i <= 30; $i++) {\n",
    "    $data->addPoints(rand(1, 15), \"Probe 1\");\n",
    "}\n",
    "$data->setSerieTicks(\"Probe 2\", 4);\n",
    "$data->setAxisName(0, \"Temperatures\");\n",
    "\n",
    "// Create the Image object\n",
    "$image = new Image(700, 230, $data);\n",
    "\n",
    "/* Turn off Antialiasing */\n",
    "$image->Antialias = false;\n",
    "\n",
    "/* Add a border to the picture */\n",
    "$image->drawRectangle(0, 0, 699, 229, [\"R\" => 0, \"G\" => 0, \"B\" => 0]);\n",
    "\n",
    "/* Write the chart title */\n",
    "$image->setFontProperties([\"FontName\" => \"Forgotte.ttf\", \"FontSize\" => 11]);\n",
    "$image->drawText(150, 35, \"Average temperature\", [\"FontSize\" => 20, \"Align\" => TEXT_ALIGN_BOTTOMMIDDLE]);\n",
    "\n",
    "/* Set the default font */\n",
    "$image->setFontProperties([\"FontName\" => \"pf_arma_five.ttf\", \"FontSize\" => 6]);\n",
    "\n",
    "/* Define the chart area */\n",
    "$image->setGraphArea(60, 40, 650, 200);\n",
    "\n",
    "/* Draw the scale */\n",
    "$scaleSettings = [\n",
    "    \"XMargin\" => 10,\n",
    "    \"YMargin\" => 10,\n",
    "    \"Floating\" => true,\n",
    "    \"GridR\" => 200,\n",
    "    \"GridG\" => 200,\n",
    "    \"GridB\" => 200,\n",
    "    \"DrawSubTicks\" => true,\n",
    "    \"CycleBackground\" => true\n",
    "];\n",
    "$image->drawScale($scaleSettings);\n",
    "\n",
    "/* Write the chart legend */\n",
    "$image->drawLegend(600, 20, [\"Style\" => LEGEND_NOBORDER, \"Mode\" => LEGEND_HORIZONTAL]);\n",
    "\n",
    "/* Turn on Antialiasing */\n",
    "$image->Antialias = true;\n",
    "\n",
    "/* Enable shadow computing */\n",
    "$image->setShadow(true, [\"X\" => 1, \"Y\" => 1, \"R\" => 0, \"G\" => 0, \"B\" => 0, \"Alpha\" => 10]);\n",
    "\n",
    "/* Draw the area chart */\n",
    "$Threshold = [];\n",
    "$Threshold[] = [\"Min\" => 0, \"Max\" => 5, \"R\" => 207, \"G\" => 240, \"B\" => 20, \"Alpha\" => 70];\n",
    "$Threshold[] = [\"Min\" => 5, \"Max\" => 10, \"R\" => 240, \"G\" => 232, \"B\" => 20, \"Alpha\" => 70];\n",
    "$Threshold[] = [\"Min\" => 10, \"Max\" => 20, \"R\" => 240, \"G\" => 191, \"B\" => 20, \"Alpha\" => 70];\n",
    "$image->drawAreaChart([\"Threshold\" => $Threshold]);\n",
    "\n",
    "/* Write the thresholds */\n",
    "$image->drawThreshold(5, [\"WriteCaption\" => true, \"Caption\" => \"Warn Zone\", \"Alpha\" => 70, \"Ticks\" => 2, \"R\" => 0, \"G\" => 0, \"B\" => 255]);\n",
    "$image->drawThreshold(10, [\"WriteCaption\" => true, \"Caption\" => \"Error Zone\", \"Alpha\" => 70, \"Ticks\" => 2, \"R\" => 0, \"G\" => 0, \"B\" => 255]);\n",
    "\n",
    "/* Render the picture (choose the best way) */\n",
    "$image->autoOutput(\"test.png\");"
   ]
  },
  {
   "cell_type": "markdown",
   "metadata": {},
   "source": [
    "![title](test.png)"
   ]
  }
 ],
 "metadata": {
  "kernelspec": {
   "display_name": "PHP",
   "language": "php",
   "name": "jupyter-php"
  },
  "language_info": {
   "file_extension": ".php",
   "mimetype": "text/x-php",
   "name": "PHP",
   "pygments_lexer": "PHP",
   "version": "7.0.28-0ubuntu0.16.04.1"
  }
 },
 "nbformat": 4,
 "nbformat_minor": 2
}
